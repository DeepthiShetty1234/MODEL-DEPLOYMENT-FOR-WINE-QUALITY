{
 "cells": [
  {
   "cell_type": "code",
   "execution_count": 32,
   "id": "b7614def",
   "metadata": {},
   "outputs": [],
   "source": [
    "import pandas as pd\n",
    "import seaborn as sns\n",
    "import numpy as np"
   ]
  },
  {
   "cell_type": "code",
   "execution_count": 33,
   "id": "e13db597",
   "metadata": {},
   "outputs": [
    {
     "data": {
      "text/html": [
       "<div>\n",
       "<style scoped>\n",
       "    .dataframe tbody tr th:only-of-type {\n",
       "        vertical-align: middle;\n",
       "    }\n",
       "\n",
       "    .dataframe tbody tr th {\n",
       "        vertical-align: top;\n",
       "    }\n",
       "\n",
       "    .dataframe thead th {\n",
       "        text-align: right;\n",
       "    }\n",
       "</style>\n",
       "<table border=\"1\" class=\"dataframe\">\n",
       "  <thead>\n",
       "    <tr style=\"text-align: right;\">\n",
       "      <th></th>\n",
       "      <th>fixed acidity</th>\n",
       "      <th>volatile acidity</th>\n",
       "      <th>citric acid</th>\n",
       "      <th>residual sugar</th>\n",
       "      <th>chlorides</th>\n",
       "      <th>free sulfur dioxide</th>\n",
       "      <th>total sulfur dioxide</th>\n",
       "      <th>density</th>\n",
       "      <th>pH</th>\n",
       "      <th>sulphates</th>\n",
       "      <th>alcohol</th>\n",
       "      <th>quality</th>\n",
       "    </tr>\n",
       "  </thead>\n",
       "  <tbody>\n",
       "    <tr>\n",
       "      <th>0</th>\n",
       "      <td>7.4</td>\n",
       "      <td>0.70</td>\n",
       "      <td>0.00</td>\n",
       "      <td>1.9</td>\n",
       "      <td>0.076</td>\n",
       "      <td>11.0</td>\n",
       "      <td>34.0</td>\n",
       "      <td>0.9978</td>\n",
       "      <td>3.51</td>\n",
       "      <td>0.56</td>\n",
       "      <td>9.4</td>\n",
       "      <td>5</td>\n",
       "    </tr>\n",
       "    <tr>\n",
       "      <th>1</th>\n",
       "      <td>7.8</td>\n",
       "      <td>0.88</td>\n",
       "      <td>0.00</td>\n",
       "      <td>2.6</td>\n",
       "      <td>0.098</td>\n",
       "      <td>25.0</td>\n",
       "      <td>67.0</td>\n",
       "      <td>0.9968</td>\n",
       "      <td>3.20</td>\n",
       "      <td>0.68</td>\n",
       "      <td>9.8</td>\n",
       "      <td>5</td>\n",
       "    </tr>\n",
       "    <tr>\n",
       "      <th>2</th>\n",
       "      <td>7.8</td>\n",
       "      <td>0.76</td>\n",
       "      <td>0.04</td>\n",
       "      <td>2.3</td>\n",
       "      <td>0.092</td>\n",
       "      <td>15.0</td>\n",
       "      <td>54.0</td>\n",
       "      <td>0.9970</td>\n",
       "      <td>3.26</td>\n",
       "      <td>0.65</td>\n",
       "      <td>9.8</td>\n",
       "      <td>5</td>\n",
       "    </tr>\n",
       "    <tr>\n",
       "      <th>3</th>\n",
       "      <td>11.2</td>\n",
       "      <td>0.28</td>\n",
       "      <td>0.56</td>\n",
       "      <td>1.9</td>\n",
       "      <td>0.075</td>\n",
       "      <td>17.0</td>\n",
       "      <td>60.0</td>\n",
       "      <td>0.9980</td>\n",
       "      <td>3.16</td>\n",
       "      <td>0.58</td>\n",
       "      <td>9.8</td>\n",
       "      <td>6</td>\n",
       "    </tr>\n",
       "    <tr>\n",
       "      <th>4</th>\n",
       "      <td>7.4</td>\n",
       "      <td>0.70</td>\n",
       "      <td>0.00</td>\n",
       "      <td>1.9</td>\n",
       "      <td>0.076</td>\n",
       "      <td>11.0</td>\n",
       "      <td>34.0</td>\n",
       "      <td>0.9978</td>\n",
       "      <td>3.51</td>\n",
       "      <td>0.56</td>\n",
       "      <td>9.4</td>\n",
       "      <td>5</td>\n",
       "    </tr>\n",
       "  </tbody>\n",
       "</table>\n",
       "</div>"
      ],
      "text/plain": [
       "   fixed acidity  volatile acidity  citric acid  residual sugar  chlorides  \\\n",
       "0            7.4              0.70         0.00             1.9      0.076   \n",
       "1            7.8              0.88         0.00             2.6      0.098   \n",
       "2            7.8              0.76         0.04             2.3      0.092   \n",
       "3           11.2              0.28         0.56             1.9      0.075   \n",
       "4            7.4              0.70         0.00             1.9      0.076   \n",
       "\n",
       "   free sulfur dioxide  total sulfur dioxide  density    pH  sulphates  \\\n",
       "0                 11.0                  34.0   0.9978  3.51       0.56   \n",
       "1                 25.0                  67.0   0.9968  3.20       0.68   \n",
       "2                 15.0                  54.0   0.9970  3.26       0.65   \n",
       "3                 17.0                  60.0   0.9980  3.16       0.58   \n",
       "4                 11.0                  34.0   0.9978  3.51       0.56   \n",
       "\n",
       "   alcohol  quality  \n",
       "0      9.4        5  \n",
       "1      9.8        5  \n",
       "2      9.8        5  \n",
       "3      9.8        6  \n",
       "4      9.4        5  "
      ]
     },
     "execution_count": 33,
     "metadata": {},
     "output_type": "execute_result"
    }
   ],
   "source": [
    "df=pd.read_csv('winequality-red.csv')\n",
    "df.head()"
   ]
  },
  {
   "cell_type": "code",
   "execution_count": 43,
   "id": "02c43979",
   "metadata": {},
   "outputs": [],
   "source": [
    "X = df.drop(columns=['alcohol'],axis=1)\n",
    "Y = df['alcohol']\n"
   ]
  },
  {
   "cell_type": "code",
   "execution_count": 35,
   "id": "b82f1ddb",
   "metadata": {},
   "outputs": [],
   "source": [
    "from sklearn.model_selection import train_test_split \n"
   ]
  },
  {
   "cell_type": "code",
   "execution_count": 36,
   "id": "aa38c91e",
   "metadata": {},
   "outputs": [],
   "source": [
    "\n",
    "X_train, X_test, Y_train, Y_test = train_test_split(X, Y, test_size=0.2, random_state=3)\n"
   ]
  },
  {
   "cell_type": "code",
   "execution_count": 37,
   "id": "8db6dada",
   "metadata": {},
   "outputs": [],
   "source": [
    "from sklearn import linear_model\n",
    "model=linear_model.LinearRegression()\n"
   ]
  },
  {
   "cell_type": "code",
   "execution_count": 38,
   "id": "c55e3cd1",
   "metadata": {},
   "outputs": [
    {
     "name": "stdout",
     "output_type": "stream",
     "text": [
      "0.3530297271672961\n"
     ]
    }
   ],
   "source": [
    "model.fit(X_train,Y_train)\n",
    "print(model.score(X_train,Y_train))"
   ]
  },
  {
   "cell_type": "code",
   "execution_count": 39,
   "id": "05361ee1",
   "metadata": {},
   "outputs": [
    {
     "name": "stdout",
     "output_type": "stream",
     "text": [
      "147     5\n",
      "937     4\n",
      "877     6\n",
      "1000    7\n",
      "73      4\n",
      "       ..\n",
      "841     5\n",
      "889     5\n",
      "1145    6\n",
      "1476    5\n",
      "187     5\n",
      "Name: quality, Length: 320, dtype: int64 [5.10776499 5.670636   5.92445375 6.15302219 5.00860849 5.43370009\n",
      " 5.02549746 6.15910562 5.53883561 5.78636489 5.62786843 5.26113257\n",
      " 5.24070238 5.32287398 6.47260451 5.03594596 5.8551557  5.21136867\n",
      " 6.1559761  6.34858208 6.42104933 5.54825818 5.80370373 4.92572239\n",
      " 5.14952605 5.49202741 5.13979268 6.65891209 5.92685877 5.73187018\n",
      " 6.08533159 6.32030413 4.92197336 5.88638146 5.08459856 5.97472887\n",
      " 6.83523685 5.06477849 5.26412335 5.88638146 5.16698347 4.85899178\n",
      " 6.51422374 5.403527   5.30822155 5.85100249 5.71197875 5.24308993\n",
      " 5.2523685  5.46764886 5.08118105 5.63458706 6.03812223 6.35952402\n",
      " 5.45526752 5.35183631 5.10506904 4.92653756 5.21531952 5.10432031\n",
      " 4.80555744 5.45044288 5.26156027 5.68830016 5.85000796 6.55906819\n",
      " 5.3835082  5.72794286 5.1652748  5.98324344 5.6394578  5.59969644\n",
      " 5.75033874 5.23720248 5.99130477 5.53722239 5.40215418 5.71528634\n",
      " 5.66517966 5.73187018 6.2388052  5.29670242 4.66117736 6.04657954\n",
      " 5.55973255 5.19798667 5.22235461 5.96805198 5.54361702 5.647253\n",
      " 5.71899047 5.64993993 5.73629541 5.32195164 5.37455328 5.39438549\n",
      " 4.82788916 5.4652458  5.46816348 6.54919745 6.14719358 5.67912559\n",
      " 6.08885881 6.18154222 5.74120602 4.92214974 4.72919522 5.06065881\n",
      " 5.45260166 5.79124072 6.44559867 5.4792387  6.48970973 5.95527405\n",
      " 5.43288438 5.20478884 5.36125428 5.20688648 6.21670455 5.63419758\n",
      " 5.8677942  5.20254538 5.16957082 5.27141173 5.75769196 5.64993993\n",
      " 6.1424227  5.91021175 5.49820285 5.41269456 5.24903868 5.41914106\n",
      " 5.72097221 5.66133697 6.6103888  5.88880461 6.41797211 5.75100325\n",
      " 5.34931326 5.1543252  5.60294125 6.62307481 5.24995511 5.25546367\n",
      " 5.55957309 5.18179495 5.76546871 6.10346035 6.94819413 5.01064704\n",
      " 5.01840053 4.69460539 5.8420997  5.04562313 5.23720248 5.71782492\n",
      " 5.62668938 5.32699538 5.25203694 5.86076632 5.6355308  5.781497\n",
      " 5.54119782 6.09559632 5.62296498 5.49948337 5.97859283 4.80824934\n",
      " 5.259253   5.68467262 5.74378542 6.64439752 5.02441365 5.91101079\n",
      " 5.85785646 5.22178385 5.69391269 5.50076503 5.403527   6.40549884\n",
      " 6.75298079 4.99277597 5.87042934 5.76673152 5.75726947 5.63600501\n",
      " 5.72604757 5.42282893 6.08792156 5.59085613 5.91041788 6.54765089\n",
      " 5.01304877 5.40464058 5.19089613 5.1652748  5.45526752 5.75930411\n",
      " 5.71276824 4.9174942  5.15026082 5.00994366 6.20315755 5.67416745\n",
      " 5.43848051 5.54196274 4.99070155 5.82994888 5.32273997 5.49889976\n",
      " 5.7112651  5.74240562 5.72231812 5.83608386 5.81528349 6.02089226\n",
      " 6.21342484 5.2980976  5.03959758 5.18541465 5.39034503 4.9718505\n",
      " 6.21432546 5.45322912 5.93555078 5.2300582  6.63072665 5.11395886\n",
      " 5.27927506 5.0564863  6.19456717 5.77671489 4.87327461 5.69574135\n",
      " 5.30771597 5.36561096 5.17697419 6.31256072 5.64691803 4.9668851\n",
      " 6.12033877 6.04196864 6.20315808 5.43295518 6.78441565 6.22698471\n",
      " 6.10027601 5.2451029  5.4364057  5.5595256  5.36561096 5.24278318\n",
      " 5.75205004 5.24785332 6.14615353 5.42354727 5.82578169 4.81867658\n",
      " 6.08744411 5.07068698 6.44576476 6.09818746 5.69733905 5.72097221\n",
      " 4.91160601 6.00736235 5.31274342 5.70002985 5.44464943 5.11183805\n",
      " 6.49294341 5.30637471 5.97571407 5.69051694 6.51611113 6.19679955\n",
      " 5.11284972 5.48232411 5.31906984 5.22940769 6.41797211 5.38963219\n",
      " 5.41769037 6.01908048 4.99301295 5.88074657 5.34736023 5.19715105\n",
      " 5.50743859 5.9339809  4.83141045 6.85625197 5.17658622 4.9407007\n",
      " 5.73162613 5.67575284 5.2752268  6.30190347 6.90702993 6.60502229\n",
      " 5.95570317 6.35454157 5.91601856 5.57579801 6.0227037  5.52172408\n",
      " 5.59574594 5.74120602 5.3231128  5.14435762 6.23094561 5.30562266\n",
      " 6.23807403 6.11506118 5.89327141 5.42574095 4.82713384 6.06551465\n",
      " 5.25604828 5.11622419]\n",
      "Mean sq. error between Y_test and predicted is 1003.9744222778781\n"
     ]
    }
   ],
   "source": [
    "prediction_test=model.predict(X_test)\n",
    "print(Y_test,prediction_test)\n",
    "print('Mean sq. error between Y_test and predicted is',np.mean(prediction_test*Y_test)**2)"
   ]
  },
  {
   "cell_type": "code",
   "execution_count": 40,
   "id": "0c6e6637",
   "metadata": {},
   "outputs": [],
   "source": [
    "\n",
    "import pickle\n",
    "save = pickle.dump(model,open('wine_model.pkl','wb'))\n"
   ]
  },
  {
   "cell_type": "code",
   "execution_count": 41,
   "id": "60e5bcb8",
   "metadata": {},
   "outputs": [
    {
     "name": "stdout",
     "output_type": "stream",
     "text": [
      "[5.35371033]\n"
     ]
    },
    {
     "name": "stderr",
     "output_type": "stream",
     "text": [
      "C:\\Users\\G Guruvaiah\\anaconda3\\lib\\site-packages\\sklearn\\base.py:450: UserWarning: X does not have valid feature names, but LinearRegression was fitted with feature names\n",
      "  warnings.warn(\n"
     ]
    }
   ],
   "source": [
    "# Loading model to compare the results\n",
    "model = pickle.load(open('wine_model.pkl','rb'))\n",
    "print(model.predict([[7.3,0.65,0.0,1.2,0.065,15.0,21.0,0.9946,3.39,0.47,10.0]]))"
   ]
  },
  {
   "cell_type": "code",
   "execution_count": null,
   "id": "c5bc189b",
   "metadata": {},
   "outputs": [],
   "source": []
  },
  {
   "cell_type": "code",
   "execution_count": null,
   "id": "f62024a3",
   "metadata": {},
   "outputs": [],
   "source": []
  },
  {
   "cell_type": "code",
   "execution_count": null,
   "id": "82a436c8",
   "metadata": {},
   "outputs": [],
   "source": []
  }
 ],
 "metadata": {
  "kernelspec": {
   "display_name": "Python 3 (ipykernel)",
   "language": "python",
   "name": "python3"
  },
  "language_info": {
   "codemirror_mode": {
    "name": "ipython",
    "version": 3
   },
   "file_extension": ".py",
   "mimetype": "text/x-python",
   "name": "python",
   "nbconvert_exporter": "python",
   "pygments_lexer": "ipython3",
   "version": "3.9.7"
  }
 },
 "nbformat": 4,
 "nbformat_minor": 5
}
